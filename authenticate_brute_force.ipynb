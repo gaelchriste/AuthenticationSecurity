{
 "cells": [
  {
   "cell_type": "code",
   "execution_count": 13,
   "metadata": {},
   "outputs": [],
   "source": [
    "# You may need to install the « cryptography » module\n",
    "\n",
    "import os\n",
    "import time\n",
    "import codecs\n",
    "from cryptography.hazmat.backends import default_backend\n",
    "from cryptography.hazmat.primitives.twofactor.hotp import HOTP\n",
    "from cryptography.hazmat.primitives.hashes import SHA1\n"
   ]
  },
  {
   "cell_type": "code",
   "execution_count": 14,
   "metadata": {},
   "outputs": [],
   "source": [
    "def brute_force(value_to_find, key_bits_length, hotp_length, time_limit_sec):\n",
    "    print('HOTP value to find: ', value_to_find)\n",
    "\n",
    "    solution = None\n",
    "    tries_counter = 0\n",
    "    t_start = time.time()\n",
    "    # Brute force time limit\n",
    "    t_end = t_start + time_limit_sec\n",
    "\n",
    "    while time.time() < t_end:\n",
    "        # Random key generation\n",
    "        _key_bits = os.urandom(key_bits_length)\n",
    "        _HTOP = HOTP(_key_bits, hotp_length, SHA1(), backend=default_backend())\n",
    "        _hotp_value = _HTOP.generate(0)\n",
    "\n",
    "        tries_counter += 1\n",
    "\n",
    "        # Tests this key\n",
    "        try:\n",
    "            # It works !\n",
    "            hotp.verify(_hotp_value, 0)\n",
    "            solution = _hotp_value\n",
    "            t_end = time.time()\n",
    "            break\n",
    "        except:\n",
    "            # Not this time...\n",
    "            pass\n",
    "        \n",
    "    # Prints some computation information\n",
    "    print('Number of tries: ', tries_counter)\n",
    "    print('Time elapsed: %.2f [s]' % (t_end - t_start))\n",
    "\n",
    "    if solution:\n",
    "        print('A solution has been found: ', solution)\n",
    "        #print(codecs.encode(key_bits, 'hex'))\n",
    "        #print(codecs.encode(solution, 'hex'))\n",
    "    else:\n",
    "        print('No solution found...')"
   ]
  },
  {
   "cell_type": "code",
   "execution_count": null,
   "metadata": {},
   "outputs": [
    {
     "name": "stdout",
     "output_type": "stream",
     "text": [
      "HOTP value to find:  b'418386'\n"
     ]
    }
   ],
   "source": [
    "# The key should be randomly generated and be at least 128 bits ; it is\n",
    "# recommended to be 160 bits length (20 * 8). This key MUST be kept secret.\n",
    "KEY_BITS_LENGTH = 20\n",
    "key_bits = os.urandom(KEY_BITS_LENGTH)\n",
    "# The length controls the length of the generated one time password\n",
    "# and must be between 6 and 8.\n",
    "hotp_length = 6\n",
    "hotp = HOTP(key_bits, hotp_length, SHA1(), backend=default_backend())\n",
    "hotp_value = hotp.generate(0)\n",
    "# Raises a InvalidToken if the hotp_value cannot be verified\n",
    "hotp.verify(hotp_value, 0)\n",
    "\n",
    "brute_force(hotp_value, KEY_BITS_LENGTH, hotp_length, 60)"
   ]
  },
  {
   "cell_type": "code",
   "execution_count": 9,
   "metadata": {
    "scrolled": false
   },
   "outputs": [
    {
     "name": "stdout",
     "output_type": "stream",
     "text": [
      "hotp_value to find:  b'675443'\n",
      "No solution found...\n",
      "Number of tries:  979880\n",
      "Time elapsed: 60.00 [s]\n"
     ]
    }
   ],
   "source": []
  },
  {
   "cell_type": "code",
   "execution_count": null,
   "metadata": {},
   "outputs": [],
   "source": []
  },
  {
   "cell_type": "code",
   "execution_count": null,
   "metadata": {},
   "outputs": [],
   "source": []
  },
  {
   "cell_type": "code",
   "execution_count": null,
   "metadata": {},
   "outputs": [],
   "source": []
  },
  {
   "cell_type": "code",
   "execution_count": null,
   "metadata": {},
   "outputs": [],
   "source": []
  }
 ],
 "metadata": {
  "kernelspec": {
   "display_name": "Python 3",
   "language": "python",
   "name": "python3"
  },
  "language_info": {
   "codemirror_mode": {
    "name": "ipython",
    "version": 3
   },
   "file_extension": ".py",
   "mimetype": "text/x-python",
   "name": "python",
   "nbconvert_exporter": "python",
   "pygments_lexer": "ipython3",
   "version": "3.7.6"
  }
 },
 "nbformat": 4,
 "nbformat_minor": 2
}
