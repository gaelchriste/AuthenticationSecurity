{
 "cells": [
  {
   "cell_type": "code",
   "execution_count": 1,
   "metadata": {},
   "outputs": [],
   "source": [
    "import os\n",
    "from cryptography.hazmat.primitives.ciphers.aead import ChaCha20Poly1305, AESGCM, AESCCM\n",
    "from cryptography.exceptions import InvalidTag"
   ]
  },
  {
   "cell_type": "code",
   "execution_count": 2,
   "metadata": {},
   "outputs": [],
   "source": [
    "#ChaCha20Poly1305\n",
    "data = b\"a secret message\"\n",
    "aad = b\"authenticated but unencrypted data\"\n",
    "wrong_aad = b\"wrong authenticated data\"\n",
    "key = ChaCha20Poly1305.generate_key()\n",
    "chacha = ChaCha20Poly1305(key)\n",
    "nonce = os.urandom(12)\n",
    "ct = chacha.encrypt(nonce, data, aad) #cipher text"
   ]
  },
  {
   "cell_type": "code",
   "execution_count": 3,
   "metadata": {},
   "outputs": [
    {
     "name": "stdout",
     "output_type": "stream",
     "text": [
      "b'a secret message'\n"
     ]
    }
   ],
   "source": [
    "try:\n",
    "    print(chacha.decrypt(nonce, ct, aad)) #correct aad\n",
    "except InvalidTag:\n",
    "    print(\"Invalid tag\")"
   ]
  },
  {
   "cell_type": "code",
   "execution_count": 4,
   "metadata": {},
   "outputs": [
    {
     "name": "stdout",
     "output_type": "stream",
     "text": [
      "Invalid tag\n"
     ]
    }
   ],
   "source": [
    "try:\n",
    "    print(chacha.decrypt(nonce, ct, wrong_aad)) #wrong aad\n",
    "except InvalidTag:\n",
    "    print(\"Invalid tag\")"
   ]
  },
  {
   "cell_type": "code",
   "execution_count": 5,
   "metadata": {},
   "outputs": [],
   "source": [
    "#AESGCM\n",
    "key = AESGCM.generate_key(bit_length=128)\n",
    "aesgcm = AESGCM(key)\n",
    "ct = aesgcm.encrypt(nonce, data, aad)"
   ]
  },
  {
   "cell_type": "code",
   "execution_count": 6,
   "metadata": {},
   "outputs": [
    {
     "name": "stdout",
     "output_type": "stream",
     "text": [
      "b'a secret message'\n"
     ]
    }
   ],
   "source": [
    "try:\n",
    "    print(aesgcm.decrypt(nonce, ct, aad)) #correct aad\n",
    "except InvalidTag:\n",
    "    print(\"Invalid tag\")"
   ]
  },
  {
   "cell_type": "code",
   "execution_count": 7,
   "metadata": {},
   "outputs": [],
   "source": [
    "#AESCCM\n",
    "key = AESCCM.generate_key(bit_length=128)\n",
    "aesccm = AESCCM(key)\n",
    "nonce = os.urandom(13)\n",
    "ct = aesccm.encrypt(nonce, data, aad)"
   ]
  },
  {
   "cell_type": "code",
   "execution_count": 8,
   "metadata": {},
   "outputs": [
    {
     "name": "stdout",
     "output_type": "stream",
     "text": [
      "b'a secret message'\n"
     ]
    }
   ],
   "source": [
    "try:\n",
    "    print(aesccm.decrypt(nonce, ct, aad)) #correct aad\n",
    "except InvalidTag:\n",
    "    print(\"Invalid tag\")"
   ]
  }
 ],
 "metadata": {
  "kernelspec": {
   "display_name": "Python 3",
   "language": "python",
   "name": "python3"
  },
  "language_info": {
   "codemirror_mode": {
    "name": "ipython",
    "version": 3
   },
   "file_extension": ".py",
   "mimetype": "text/x-python",
   "name": "python",
   "nbconvert_exporter": "python",
   "pygments_lexer": "ipython3",
   "version": "3.8.2"
  }
 },
 "nbformat": 4,
 "nbformat_minor": 2
}
