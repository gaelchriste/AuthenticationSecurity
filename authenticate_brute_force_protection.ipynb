{
 "cells": [
  {
   "cell_type": "code",
   "execution_count": 1,
   "metadata": {},
   "outputs": [],
   "source": [
    "# You may need to install the « cryptography » module\n",
    "\n",
    "import os\n",
    "import time\n",
    "from cryptography.hazmat.backends import default_backend\n",
    "from cryptography.hazmat.primitives.twofactor.hotp import HOTP\n",
    "from cryptography.hazmat.primitives.hashes import SHA1"
   ]
  },
  {
   "cell_type": "code",
   "execution_count": 2,
   "metadata": {},
   "outputs": [
    {
     "name": "stdout",
     "output_type": "stream",
     "text": [
      "Number of brute force attempts:  905882\n",
      "Number of verification attempts:  10\n"
     ]
    }
   ],
   "source": [
    "key_bits_length = 18\n",
    "hotp_length = 6\n",
    "\n",
    "# Generates an HOTP token\n",
    "key_bits = os.urandom(key_bits_length)\n",
    "hotp = HOTP(key_bits, hotp_length, SHA1(), backend=default_backend())\n",
    "hotp_value = hotp.generate(0)\n",
    "# Raises an InvalidToken if the hotp_value cannot be verified\n",
    "hotp.verify(hotp_value, 0)\n",
    "\n",
    "TOTAL_TIME = 30\n",
    "VERIFY_TIME_INTERVAL = 3\n",
    "\n",
    "brute_force_attempts = 0\n",
    "verification_attempts = 0\n",
    "\n",
    "t_start = time.time()\n",
    "t_end = t_start + TOTAL_TIME\n",
    "\n",
    "t_end_verification = 0\n",
    "\n",
    "while time.time() < t_end:\n",
    "    # Random key generation\n",
    "    _key_bits = os.urandom(key_bits_length)\n",
    "    _HTOP = HOTP(_key_bits, hotp_length, SHA1(), backend=default_backend())\n",
    "    _hotp_value = _HTOP.generate(0)\n",
    "    \n",
    "    brute_force_attempts += 1\n",
    "    \n",
    "    # Can verify\n",
    "    if time.time() > t_end_verification:\n",
    "        # Tests this key\n",
    "        try:\n",
    "            # It works !\n",
    "            main_HOTP.verify(_hotp_value, 0)\n",
    "            print('Woups! The HOTP token has been cracked...')\n",
    "            break\n",
    "        except:\n",
    "            # Not this time...\n",
    "            pass\n",
    "        \n",
    "        t_end_verification = time.time() + VERIFY_TIME_INTERVAL\n",
    "        verification_attempts += 1\n",
    "        \n",
    "# Prints results\n",
    "print('Number of brute force attempts: ', brute_force_attempts)\n",
    "print('Number of verification attempts: ', verification_attempts)"
   ]
  }
 ],
 "metadata": {
  "kernelspec": {
   "display_name": "Python 3",
   "language": "python",
   "name": "python3"
  },
  "language_info": {
   "codemirror_mode": {
    "name": "ipython",
    "version": 3
   },
   "file_extension": ".py",
   "mimetype": "text/x-python",
   "name": "python",
   "nbconvert_exporter": "python",
   "pygments_lexer": "ipython3",
   "version": "3.7.6"
  }
 },
 "nbformat": 4,
 "nbformat_minor": 2
}
